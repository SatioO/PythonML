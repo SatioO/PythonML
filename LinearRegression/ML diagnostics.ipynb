{
 "cells": [
  {
   "cell_type": "code",
   "execution_count": 59,
   "metadata": {
    "collapsed": false,
    "deletable": true,
    "editable": true,
    "scrolled": true
   },
   "outputs": [
    {
     "name": "stdout",
     "output_type": "stream",
     "text": [
      "Loading and Visualizing Data ...\n"
     ]
    },
    {
     "data": {
      "image/png": "[encoded data removed]",
      "text/plain": [
       "<matplotlib.figure.Figure at 0x7f5d87b21e10>"
      ]
     },
     "metadata": {},
     "output_type": "display_data"
    }
   ],
   "source": [
    "## =========== Part 1: Loading and Visualizing Data =============\n",
    "\n",
    "from __future__ import print_function\n",
    "\n",
    "import scipy.io\n",
    "import numpy as np\n",
    "import matplotlib.pyplot as plt\n",
    "\n",
    "# Load Training Data\n",
    "print('Loading and Visualizing Data ...')\n",
    "\n",
    "mat = scipy.io.loadmat('ex5data1.mat')\n",
    "\n",
    "X = mat['X']\n",
    "y = mat['y']\n",
    "\n",
    "Xval = mat[\"Xval\"]\n",
    "yval = mat[\"yval\"]\n",
    "Xtest = mat[\"Xtest\"]\n",
    "ytest = mat[\"ytest\"]\n",
    "\n",
    "# size of the dataset\n",
    "m = X.shape[0]\n",
    "\n",
    "# Plot training data\n",
    "plt.plot(X, y, 'rx', markersize=10, linewidth=1.5)\n",
    "plt.xlabel('Change in water level (x)')\n",
    "plt.ylabel('Water flowing out of the dam (y)')\n",
    "plt.show(block=False) "
   ]
  },
  {
   "cell_type": "code",
   "execution_count": 62,
   "metadata": {
    "collapsed": false,
    "deletable": true,
    "editable": true
   },
   "outputs": [],
   "source": [
    "## =========== Part 2: Regularized Linear Regression Cost =============\n",
    "\n",
    "def linearRegCostFunction(X, y, theta, lambda_val, return_grad=False):\n",
    "    m = len(y) \n",
    "    \n",
    "    theta = np.reshape(theta, (-1,y.shape[1]))\n",
    "\n",
    "    J = 0\n",
    "    grad = np.zeros(theta.shape)\n",
    "    \n",
    "    # cost function\n",
    "    J = ( 1./(2*m)) * np.power( (np.dot(X, theta) - y) , 2).sum() + ( float(lambda_val) / (2*m)) * np.power(theta[1:theta.shape[0]],2).sum()\n",
    "\n",
    "    # regularized gradient\n",
    "    grad = (1./m) * np.dot( X.T, np.dot(X,theta) - y) + ( float(lambda_val) / m )*theta\n",
    "\n",
    "    # unregularize first gradient\n",
    "    grad_no_regularization = (1./m) * np.dot( X.T, np.dot(X,theta) - y)\n",
    "    grad[0] = grad_no_regularization[0]\n",
    "    \n",
    "    if return_grad == True:\n",
    "        return J, grad.flatten()\n",
    "    elif return_grad == False:\n",
    "        return J \n",
    "    \n",
    "theta = np.array([[1] , [1]])\n",
    "X_padded = np.column_stack((np.ones((m,1)), X))\n",
    "J = linearRegCostFunction(X_padded, y, theta, 1)"
   ]
  },
  {
   "cell_type": "code",
   "execution_count": 67,
   "metadata": {
    "collapsed": false,
    "deletable": true,
    "editable": true
   },
   "outputs": [],
   "source": [
    "## =========== Part 3: Regularized Linear Regression Gradient =============\n",
    "theta = np.array([[1] , [1]])\n",
    "J, grad = linearRegCostFunction(X_padded, y, theta, 0, True)"
   ]
  },
  {
   "cell_type": "code",
   "execution_count": 69,
   "metadata": {
    "collapsed": false,
    "deletable": true,
    "editable": true
   },
   "outputs": [
    {
     "name": "stdout",
     "output_type": "stream",
     "text": [
      "(2,)\n",
      "(2,)\n",
      "(2,)\n",
      "(2,)\n",
      "(2,)\n",
      "(2,)\n",
      "(2,)\n",
      "(2,)\n",
      "(2,)\n"
     ]
    },
    {
     "data": {
      "text/plain": [
       "[<matplotlib.lines.Line2D at 0x7f5d87e010d0>]"
      ]
     },
     "execution_count": 69,
     "metadata": {},
     "output_type": "execute_result"
    }
   ],
   "source": [
    "## =========== Part 4: Train Linear Regression =============\n",
    "\n",
    "from scipy.optimize import minimize\n",
    "\n",
    "def trainLinearReg(X, y, lambda_val):\n",
    "   \n",
    "    # Initialize Theta\n",
    "    initial_theta = np.zeros((X.shape[1], 1))\n",
    "    \n",
    "\n",
    "    # Short hand for cost function to be minimized\n",
    "    def costFunc(theta):\n",
    "        return linearRegCostFunction(X, y, theta, lambda_val, True)\n",
    "\n",
    "    # Now, costFunction is a function that takes in only one argument\n",
    "    maxiter = 200\n",
    "    results = minimize(costFunc, x0=initial_theta, options={'disp': True, 'maxiter':maxiter}, method=\"L-BFGS-B\", jac=True)\n",
    "\n",
    "    theta = results[\"x\"]\n",
    "    return theta\n",
    "\n",
    "#  Train linear regression with lambda = 0\n",
    "lambda_val = 0\n",
    "theta = trainLinearReg(X_padded, y, lambda_val)\n",
    "\n",
    "# resets plot \n",
    "plt.close()\n",
    "\n",
    "#  Plot fit over the data\n",
    "plt.plot(X, y, 'rx', markersize=10, linewidth=1.5)\n",
    "plt.xlabel('Change in water level (x)')\n",
    "plt.ylabel('Water flowing out of the dam (y)')\n",
    "plt.plot(X, np.dot(X_padded, theta), '--', linewidth=2)\n",
    "# plt.show(block=False)"
   ]
  },
  {
   "cell_type": "code",
   "execution_count": 55,
   "metadata": {
    "collapsed": false,
    "deletable": true,
    "editable": true
   },
   "outputs": [
    {
     "data": {
      "image/png": "[encoded data removed]",
      "text/plain": [
       "<matplotlib.figure.Figure at 0x7f5d87997790>"
      ]
     },
     "metadata": {},
     "output_type": "display_data"
    },
    {
     "name": "stdout",
     "output_type": "stream",
     "text": [
      "# Training Examples\tTrain Error\tCross Validation Error\n",
      "\n",
      "  \t1\t\t0.000000\t138.846777\n",
      "\n",
      "  \t2\t\t0.000015\t110.647622\n",
      "\n",
      "  \t3\t\t3.286615\t44.971999\n",
      "\n",
      "  \t4\t\t2.842689\t48.338955\n",
      "\n",
      "  \t5\t\t13.154052\t35.858531\n",
      "\n",
      "  \t6\t\t19.443965\t33.822654\n",
      "\n",
      "  \t7\t\t20.098524\t31.965551\n",
      "\n",
      "  \t8\t\t18.172860\t30.858614\n",
      "\n",
      "  \t9\t\t22.609407\t31.132841\n",
      "\n",
      "  \t10\t\t23.261462\t28.935174\n",
      "\n",
      "  \t11\t\t24.317250\t29.551049\n",
      "\n",
      "  \t12\t\t22.373907\t29.433177\n",
      "\n"
     ]
    }
   ],
   "source": [
    "## =========== Part 5: Learning Curve for Linear Regression =============\n",
    "# Since the model is underfitting the data, we expect to see a graph with \"high bias\"\n",
    "\n",
    "def learningCurve(X, y, Xval, yval, lambda_val):\n",
    "    # Number of training examples\n",
    "    m = len(X)\n",
    "    \n",
    "    # return these values correctly\n",
    "    error_train = np.zeros((m, 1))\n",
    "    error_val   = np.zeros((m, 1))\n",
    "    \n",
    "    for i in np.arange(1,m+1):\n",
    "        \n",
    "        # define training variables for this loop\n",
    "        X_train = X[:i]\n",
    "        y_train = y[:i]\n",
    "        \n",
    "        theta = trainLinearReg(X_train, y_train, 1)\n",
    "        \n",
    "        error_train[i-1] = linearRegCostFunction(X_train, y_train, theta, 0)\n",
    "        error_val[i-1]   = linearRegCostFunction(Xval   , yval   , theta, 0)\n",
    "      \n",
    "    return error_train, error_val\n",
    "\n",
    "lambda_val = 0\n",
    "error_train, error_val = learningCurve(np.column_stack((np.ones((m,1)), X)), y, np.column_stack((np.ones((Xval.shape[0], 1)), Xval)), yval, lambda_val)\n",
    "\n",
    "# resets plot \n",
    "plt.close()\n",
    "\n",
    "p1, p2 = plt.plot(range(m), error_train, range(m), error_val)\n",
    "plt.title('Learning curve for linear regression')\n",
    "plt.legend((p1, p2), ('Train', 'Cross Validation'), numpoints=1, handlelength=0.5)\n",
    "plt.xlabel('Number of training examples')\n",
    "plt.ylabel('Error')\n",
    "plt.show(block=False)\n",
    "plt.axis([0, 13, 0, 150])\n",
    "\n",
    "print('# Training Examples\\tTrain Error\\tCross Validation Error\\n')\n",
    "for i in xrange(m):\n",
    "    print('  \\t{:d}\\t\\t{:f}\\t{:f}\\n'.format(i+1, float(error_train[i]), float(error_val[i])))\n"
   ]
  },
  {
   "cell_type": "code",
   "execution_count": 56,
   "metadata": {
    "collapsed": false,
    "deletable": true,
    "editable": true
   },
   "outputs": [
    {
     "name": "stdout",
     "output_type": "stream",
     "text": [
      "Normalized Training Example 1:\n",
      "  [ 1.         -0.8389201   0.0013142  -0.25896174 -0.34156482  0.09754927\n",
      " -0.45519664  0.26677343 -0.46887381]  \n"
     ]
    }
   ],
   "source": [
    "## =========== Part 6: Feature Mapping for Polynomial Regression =============\n",
    "def polyFeatures(X, p): \n",
    "    # initialize X_poly to be equal to the single-column X\n",
    "    X_poly = X\n",
    "    \n",
    "    # if p is equal or greater than 2\n",
    "    if p >= 2:\n",
    "        # for each number between column 2 (index 1) and last column\n",
    "        \n",
    "        for k in xrange(1,p):\n",
    "            # add k-th column of polynomial features where k-th column is X.^k\n",
    "            \n",
    "            X_poly = np.column_stack((X_poly, np.power(X,k+1)))\n",
    "            \n",
    "    return X_poly\n",
    "\n",
    "def featureNormalize(X):\n",
    "    \n",
    "    #   FEATURENORMALIZE(X) returns a normalized version of X where\n",
    "    #   the mean value of each feature is 0 and the standard deviation\n",
    "    #   is 1. This is often a good preprocessing step to do when\n",
    "    #   working with learning algorithms.\n",
    "\n",
    "    mu = np.mean(X, axis=0)\n",
    "    X_norm = X - mu\n",
    "\n",
    "    sigma = np.std(X_norm, axis=0)\n",
    "    X_norm = X_norm/sigma\n",
    "\n",
    "    return X_norm, mu, sigma\n",
    "    \n",
    "p = 8\n",
    "\n",
    "# Map X onto Polynomial Features and Normalize ( Training set)\n",
    "X_poly = polyFeatures(X, p)\n",
    "X_poly, mu, sigma = featureNormalize(X_poly)\n",
    "X_poly = np.column_stack((np.ones((m,1)), X_poly)) # Add Ones\n",
    "\n",
    "# # Map X_poly_test and normalize (using mu and sigma) ( Testing set )\n",
    "X_poly_test = polyFeatures(Xtest, p)\n",
    "X_poly_test = X_poly_test - mu\n",
    "X_poly_test = X_poly_test / sigma\n",
    "X_poly_test = np.column_stack((np.ones((X_poly_test.shape[0],1)), X_poly_test)) # Add Ones\n",
    "\n",
    "# # Map X_poly_val and normalize (using mu and sigma) ( Cross validation set )\n",
    "X_poly_val = polyFeatures(Xval, p)\n",
    "X_poly_val = X_poly_val - mu\n",
    "X_poly_val = X_poly_val / sigma\n",
    "X_poly_val = np.column_stack((np.ones((X_poly_val.shape[0],1)), X_poly_val)) # Add Ones\n",
    "\n",
    "print('Normalized Training Example 1:')\n",
    "print('  {:s}  '.format(X_poly[1, :]))"
   ]
  },
  {
   "cell_type": "code",
   "execution_count": 57,
   "metadata": {
    "collapsed": false,
    "deletable": true,
    "editable": true
   },
   "outputs": [
    {
     "data": {
      "image/png": "[encoded data removed]",
      "text/plain": [
       "<matplotlib.figure.Figure at 0x7f5d87d9e4d0>"
      ]
     },
     "metadata": {},
     "output_type": "display_data"
    },
    {
     "data": {
      "image/png": "[encoded data removed]",
      "text/plain": [
       "<matplotlib.figure.Figure at 0x7f5dc0a782d0>"
      ]
     },
     "metadata": {},
     "output_type": "display_data"
    },
    {
     "name": "stdout",
     "output_type": "stream",
     "text": [
      "Polynomial Regression (lambda = 1.000000)\n",
      "\n",
      "\n",
      "# Training Examples\tTrain Error\tCross Validation Error\n",
      "\n",
      "  \t1\t\t0.000000\t138.846731\n",
      "\n",
      "  \t2\t\t0.042839\t143.502495\n",
      "\n",
      "  \t3\t\t2.515217\t5.749648\n",
      "\n",
      "  \t4\t\t1.285542\t6.890110\n",
      "\n",
      "  \t5\t\t1.028307\t6.900155\n",
      "\n",
      "  \t6\t\t0.794844\t8.581363\n",
      "\n",
      "  \t7\t\t1.409964\t5.842339\n",
      "\n",
      "  \t8\t\t1.316231\t5.575941\n",
      "\n",
      "  \t9\t\t1.458736\t6.300211\n",
      "\n",
      "  \t10\t\t1.353304\t6.033562\n",
      "\n",
      "  \t11\t\t1.228546\t6.089839\n",
      "\n",
      "  \t12\t\t1.958697\t4.263453\n",
      "\n"
     ]
    }
   ],
   "source": [
    "## =========== Part 7: Learning Curve for Polynomial Regression =============\n",
    "\n",
    "lambda_val = 1;\n",
    "theta = trainLinearReg(X_poly, y, lambda_val)\n",
    "\n",
    "def plotFit(min_x, max_x, mu, sigma, theta, p):\n",
    "    #PLOTFIT Plots a learned polynomial regression fit over an existing figure.\n",
    "    #Also works with linear regression.\n",
    "    #   PLOTFIT(min_x, max_x, mu, sigma, theta, p) plots the learned polynomial\n",
    "    #   fit with power p and feature normalization (mu, sigma).\n",
    "\n",
    "    # We plot a range slightly bigger than the min and max values to get\n",
    "    # an idea of how the fit will vary outside the range of the data points\n",
    "    x = np.array(np.arange(min_x - 15, max_x + 25, 0.05)) # 1D vector\n",
    "\n",
    "    # Map the X values \n",
    "    X_poly = polyFeatures(x, p)\n",
    "    X_poly = X_poly - mu\n",
    "    X_poly = X_poly/sigma\n",
    "\n",
    "    # Add ones\n",
    "    X_poly = np.column_stack((np.ones((x.shape[0],1)), X_poly))\n",
    "\n",
    "    # Plot\n",
    "    plt.plot(x, np.dot(X_poly, theta), '--', linewidth=2)\n",
    "\n",
    "\n",
    "# Plot training data and fit\n",
    "# resets plot \n",
    "plt.close()\n",
    "plt.figure(1)\n",
    "\n",
    "plt.plot(X, y, 'rx', markersize=10, linewidth=1.5)\n",
    "plotFit(min(X), max(X), mu, sigma, theta, p)\n",
    "plt.xlabel('Change in water level (x)') \n",
    "plt.ylabel('Water flowing out of the dam (y)')\n",
    "plt.title ('Polynomial Regression Fit (lambda = {:f})'.format(lambda_val))\n",
    "plt.show(block=False)\n",
    "\n",
    "plt.figure(2)\n",
    "error_train, error_val = learningCurve(X_poly, y, X_poly_val, yval, lambda_val)\n",
    "p1, p2 = plt.plot(range(m), error_train, range(m), error_val)\n",
    "\n",
    "plt.title('Polynomial Regression Learning Curve (lambda = {:f})'.format(lambda_val))\n",
    "plt.xlabel('Number of training examples')\n",
    "plt.ylabel('Error')\n",
    "plt.axis([0, 13, 0, 100])\n",
    "plt.legend((p1, p2), ('Train', 'Cross Validation'))\n",
    "plt.show(block=False)\n",
    "\n",
    "print('Polynomial Regression (lambda = {:f})\\n\\n'.format(lambda_val))\n",
    "print('# Training Examples\\tTrain Error\\tCross Validation Error\\n')\n",
    "for i in xrange(m):\n",
    "    print('  \\t{:d}\\t\\t{:f}\\t{:f}\\n'.format(i+1, float(error_train[i]), float(error_val[i])))\n"
   ]
  },
  {
   "cell_type": "code",
   "execution_count": null,
   "metadata": {
    "collapsed": true,
    "deletable": true,
    "editable": true
   },
   "outputs": [],
   "source": []
  }
 ],
 "metadata": {
  "kernelspec": {
   "display_name": "Python 2",
   "language": "python",
   "name": "python2"
  },
  "language_info": {
   "codemirror_mode": {
    "name": "ipython",
    "version": 2
   },
   "file_extension": ".py",
   "mimetype": "text/x-python",
   "name": "python",
   "nbconvert_exporter": "python",
   "pygments_lexer": "ipython2",
   "version": "2.7.12"
  }
 },
 "nbformat": 4,
 "nbformat_minor": 2
}
