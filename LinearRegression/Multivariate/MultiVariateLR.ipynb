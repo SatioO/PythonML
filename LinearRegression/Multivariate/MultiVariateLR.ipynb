{
 "cells": [
  {
   "cell_type": "code",
   "execution_count": 121,
   "metadata": {
    "collapsed": false
   },
   "outputs": [
    {
     "name": "stdout",
     "output_type": "stream",
     "text": [
      "[[  2.10400000e+03   3.00000000e+00   3.99900000e+05]\n",
      " [  1.60000000e+03   3.00000000e+00   3.29900000e+05]\n",
      " [  2.40000000e+03   3.00000000e+00   3.69000000e+05]\n",
      " [  1.41600000e+03   2.00000000e+00   2.32000000e+05]\n",
      " [  3.00000000e+03   4.00000000e+00   5.39900000e+05]\n",
      " [  1.98500000e+03   4.00000000e+00   2.99900000e+05]\n",
      " [  1.53400000e+03   3.00000000e+00   3.14900000e+05]\n",
      " [  1.42700000e+03   3.00000000e+00   1.98999000e+05]\n",
      " [  1.38000000e+03   3.00000000e+00   2.12000000e+05]\n",
      " [  1.49400000e+03   3.00000000e+00   2.42500000e+05]\n",
      " [  1.94000000e+03   4.00000000e+00   2.39999000e+05]\n",
      " [  2.00000000e+03   3.00000000e+00   3.47000000e+05]\n",
      " [  1.89000000e+03   3.00000000e+00   3.29999000e+05]\n",
      " [  4.47800000e+03   5.00000000e+00   6.99900000e+05]\n",
      " [  1.26800000e+03   3.00000000e+00   2.59900000e+05]\n",
      " [  2.30000000e+03   4.00000000e+00   4.49900000e+05]\n",
      " [  1.32000000e+03   2.00000000e+00   2.99900000e+05]\n",
      " [  1.23600000e+03   3.00000000e+00   1.99900000e+05]\n",
      " [  2.60900000e+03   4.00000000e+00   4.99998000e+05]\n",
      " [  3.03100000e+03   4.00000000e+00   5.99000000e+05]\n",
      " [  1.76700000e+03   3.00000000e+00   2.52900000e+05]\n",
      " [  1.88800000e+03   2.00000000e+00   2.55000000e+05]\n",
      " [  1.60400000e+03   3.00000000e+00   2.42900000e+05]\n",
      " [  1.96200000e+03   4.00000000e+00   2.59900000e+05]\n",
      " [  3.89000000e+03   3.00000000e+00   5.73900000e+05]\n",
      " [  1.10000000e+03   3.00000000e+00   2.49900000e+05]\n",
      " [  1.45800000e+03   3.00000000e+00   4.64500000e+05]\n",
      " [  2.52600000e+03   3.00000000e+00   4.69000000e+05]\n",
      " [  2.20000000e+03   3.00000000e+00   4.75000000e+05]\n",
      " [  2.63700000e+03   3.00000000e+00   2.99900000e+05]\n",
      " [  1.83900000e+03   2.00000000e+00   3.49900000e+05]\n",
      " [  1.00000000e+03   1.00000000e+00   1.69900000e+05]\n",
      " [  2.04000000e+03   4.00000000e+00   3.14900000e+05]\n",
      " [  3.13700000e+03   3.00000000e+00   5.79900000e+05]\n",
      " [  1.81100000e+03   4.00000000e+00   2.85900000e+05]\n",
      " [  1.43700000e+03   3.00000000e+00   2.49900000e+05]\n",
      " [  1.23900000e+03   3.00000000e+00   2.29900000e+05]\n",
      " [  2.13200000e+03   4.00000000e+00   3.45000000e+05]\n",
      " [  4.21500000e+03   4.00000000e+00   5.49000000e+05]\n",
      " [  2.16200000e+03   4.00000000e+00   2.87000000e+05]\n",
      " [  1.66400000e+03   2.00000000e+00   3.68500000e+05]\n",
      " [  2.23800000e+03   3.00000000e+00   3.29900000e+05]\n",
      " [  2.56700000e+03   4.00000000e+00   3.14000000e+05]\n",
      " [  1.20000000e+03   3.00000000e+00   2.99000000e+05]\n",
      " [  8.52000000e+02   2.00000000e+00   1.79900000e+05]\n",
      " [  1.85200000e+03   4.00000000e+00   2.99900000e+05]\n",
      " [  1.20300000e+03   3.00000000e+00   2.39500000e+05]]\n"
     ]
    },
    {
     "data": {
      "image/png": "[encoded data removed]",
      "text/plain": [
       "<matplotlib.figure.Figure at 0x23fb81b70f0>"
      ]
     },
     "metadata": {},
     "output_type": "display_data"
    },
    {
     "name": "stdout",
     "output_type": "stream",
     "text": [
      "Predicted price of a 1650 sq-ft, 3 br house (using gradient descent):\n",
      " $289,221.55\n"
     ]
    }
   ],
   "source": [
    "#!/usr/bin/env python\n",
    "\n",
    "import numpy as np\n",
    "\n",
    "## ================ Part 1: Feature Normalization ================\n",
    "\n",
    "def featureNormalize(X):\n",
    "    X_norm = X\n",
    "    mu    = np.zeros((1, X.shape[1]))\n",
    "    sigma = np.zeros((1, X.shape[1]))\n",
    "    \n",
    "    m = X.shape[1]\n",
    "    \n",
    "    for i in np.arange(m):\n",
    "        mu[:,i] = np.mean(X[:,i])\n",
    "        sigma[:,i] = np.std(X[:,i])\n",
    "        X_norm[:, i] = (X[:,i] - float(mu[:,i])) / float(sigma[:,i])\n",
    "    \n",
    "    return X_norm, mu, sigma\n",
    "        \n",
    "# Loading data \n",
    "data = np.loadtxt('ex1data2.txt', delimiter=\",\")\n",
    "print(data)\n",
    "X = data[:, :2]\n",
    "y = data[:, 2]\n",
    "\n",
    "# number of training examples\n",
    "m = len(y) \n",
    "\n",
    "# Normalizing Features...\n",
    "X_norm, mu, sigma = featureNormalize(X)\n",
    "\n",
    "# Add intercept term to X\n",
    "X_padded = np.column_stack((np.ones((m,1)), X_norm)) # Add a column of ones to x\n",
    "\n",
    "## ================ Part 2: Gradient Descent ================\n",
    "def computeCost(X, y, theta):\n",
    "    m = len(y)\n",
    "    h = np.power(( X.dot(theta) - np.transpose([y]) ), 2)\n",
    "    J = (1.0/(2*m)) * h.sum( axis = 0 )\n",
    "    return J\n",
    "    \n",
    "def gradientDescentMulti(X, y, theta, alpha, iters):\n",
    "   \n",
    "    # Initialize some useful values\n",
    "    m = len(y) # number of training examples\n",
    "    J_history = np.zeros((num_iters, 1))\n",
    "    for i in np.arange(iters):\n",
    "        theta = theta - alpha*(1.0/m) * np.transpose(X).dot(X.dot(theta) - np.transpose([y]))\n",
    "        J_history[i] = computeCost(X, y, theta)\n",
    "        \n",
    "    return theta, J_history\n",
    "    \n",
    "# Choose some alpha value\n",
    "alpha = 0.01\n",
    "num_iters = 400\n",
    "\n",
    "# Init Theta and Run Gradient Descent \n",
    "theta = np.zeros((3, 1))\n",
    "\n",
    "theta, J_history = gradientDescentMulti(X_padded, y, theta, alpha, num_iters)\n",
    "\n",
    "# Plot the convergence graph\n",
    "plt.plot(range(J_history.size), J_history, \"-b\", linewidth=2 )\n",
    "plt.xlabel('Number of iterations')\n",
    "plt.ylabel('Cost J')\n",
    "plt.show(block=False)\n",
    "\n",
    "# Estimate the price of a 1650 sq-ft, 3 br house\n",
    "# Recall that the first column of X is all-ones. Thus, it does\n",
    "# not need to be normalized.\n",
    "area_norm = (1650 - float(mu[:,0])) / float(sigma[:,0])\n",
    "br_norm = (3 - float(mu[:,1]))/float(sigma[:,1])\n",
    "house_norm_padded = np.array([1, area_norm, br_norm])\n",
    "price = np.array(house_norm_padded).dot(theta)\n",
    "\n",
    "# ============================================================\n",
    "\n",
    "print(\"Predicted price of a 1650 sq-ft, 3 br house (using gradient descent):\\n ${:,.2f}\".format(price[0]))"
   ]
  },
  {
   "cell_type": "code",
   "execution_count": null,
   "metadata": {
    "collapsed": true
   },
   "outputs": [],
   "source": []
  }
 ],
 "metadata": {
  "anaconda-cloud": {},
  "kernelspec": {
   "display_name": "Python [conda root]",
   "language": "python",
   "name": "conda-root-py"
  },
  "language_info": {
   "codemirror_mode": {
    "name": "ipython",
    "version": 3
   },
   "file_extension": ".py",
   "mimetype": "text/x-python",
   "name": "python",
   "nbconvert_exporter": "python",
   "pygments_lexer": "ipython3",
   "version": "3.5.2"
  }
 },
 "nbformat": 4,
 "nbformat_minor": 1
}
