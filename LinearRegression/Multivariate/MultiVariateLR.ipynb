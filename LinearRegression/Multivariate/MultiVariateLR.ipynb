{
 "cells": [
  {
   "cell_type": "code",
   "execution_count": 118,
   "metadata": {
    "collapsed": false
   },
   "outputs": [
    {
     "name": "stdout",
     "output_type": "stream",
     "text": [
      "[ 1.         -0.44604386 -0.22609337]\n",
      "Predicted price of a 1650 sq-ft, 3 br house (using gradient descent):\n",
      " $289,221.55\n"
     ]
    }
   ],
   "source": [
    "#!/usr/bin/env python\n",
    "\n",
    "import numpy as np\n",
    "\n",
    "## ================ Part 1: Feature Normalization ================\n",
    "\n",
    "def featureNormalize(X):\n",
    "    X_norm = X\n",
    "    mu    = np.zeros((1, X.shape[1]))\n",
    "    sigma = np.zeros((1, X.shape[1]))\n",
    "    \n",
    "    m = X.shape[1]\n",
    "    \n",
    "    for i in np.arange(m):\n",
    "        mu[:,i] = np.mean(X[:,i])\n",
    "        sigma[:,i] = np.std(X[:,i])\n",
    "        X_norm[:, i] = (X[:,i] - float(mu[:,i])) / float(sigma[:,i])\n",
    "    \n",
    "    return X_norm, mu, sigma\n",
    "        \n",
    "# Loading data \n",
    "data = np.loadtxt('ex1data2.txt', delimiter=\",\")\n",
    "X = data[:, :2]\n",
    "y = data[:, 2]\n",
    "\n",
    "# number of training examples\n",
    "m = len(y) \n",
    "\n",
    "# Normalizing Features...\n",
    "X_norm, mu, sigma = featureNormalize(X)\n",
    "\n",
    "# Add intercept term to X\n",
    "X_padded = np.column_stack((np.ones((m,1)), X_norm)) # Add a column of ones to x\n",
    "\n",
    "## ================ Part 2: Gradient Descent ================\n",
    "def computeCost(X, y, theta):\n",
    "    m = len(y)\n",
    "    h = np.power(( X.dot(theta) - np.transpose([y]) ), 2)\n",
    "    J = (1.0/(2*m)) * h.sum( axis = 0 )\n",
    "    return J\n",
    "    \n",
    "def gradientDescentMulti(X, y, theta, alpha, iters):\n",
    "   \n",
    "    # Initialize some useful values\n",
    "    m = len(y) # number of training examples\n",
    "    J_history = np.zeros((num_iters, 1))\n",
    "    for i in np.arange(iters):\n",
    "        theta = theta - alpha*(1.0/m) * np.transpose(X).dot(X.dot(theta) - np.transpose([y]))\n",
    "        J_history[i] = computeCost(X, y, theta)\n",
    "        \n",
    "    return theta, J_history\n",
    "    \n",
    "# Choose some alpha value\n",
    "alpha = 0.01\n",
    "num_iters = 400\n",
    "\n",
    "# Init Theta and Run Gradient Descent \n",
    "theta = np.zeros((3, 1))\n",
    "\n",
    "theta, J_history = gradientDescentMulti(X_padded, y, theta, alpha, num_iters)\n",
    "\n",
    "# Plot the convergence graph\n",
    "plt.plot(range(J_history.size), J_history, \"-b\", linewidth=2 )\n",
    "plt.xlabel('Number of iterations')\n",
    "plt.ylabel('Cost J')\n",
    "plt.show(block=False)\n",
    "\n",
    "# Estimate the price of a 1650 sq-ft, 3 br house\n",
    "# ====================== YOUR CODE HERE ======================\n",
    "# Recall that the first column of X is all-ones. Thus, it does\n",
    "# not need to be normalized.\n",
    "area_norm = (1650 - float(mu[:,0])) / float(sigma[:,0])\n",
    "br_norm = (3 - float(mu[:,1]))/float(sigma[:,1])\n",
    "house_norm_padded = np.array([1, area_norm, br_norm])\n",
    "price = np.array(house_norm_padded).dot(theta)\n",
    "\n",
    "# ============================================================\n",
    "\n",
    "print(\"Predicted price of a 1650 sq-ft, 3 br house (using gradient descent):\\n ${:,.2f}\".format(price[0]))"
   ]
  },
  {
   "cell_type": "code",
   "execution_count": null,
   "metadata": {
    "collapsed": true
   },
   "outputs": [],
   "source": []
  }
 ],
 "metadata": {
  "anaconda-cloud": {},
  "kernelspec": {
   "display_name": "Python [conda root]",
   "language": "python",
   "name": "conda-root-py"
  },
  "language_info": {
   "codemirror_mode": {
    "name": "ipython",
    "version": 3
   },
   "file_extension": ".py",
   "mimetype": "text/x-python",
   "name": "python",
   "nbconvert_exporter": "python",
   "pygments_lexer": "ipython3",
   "version": "3.5.2"
  }
 },
 "nbformat": 4,
 "nbformat_minor": 1
}
