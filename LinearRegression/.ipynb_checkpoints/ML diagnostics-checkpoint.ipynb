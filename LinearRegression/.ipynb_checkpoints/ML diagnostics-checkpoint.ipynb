{
 "cells": [
  {
   "cell_type": "code",
   "execution_count": 241,
   "metadata": {
    "collapsed": false,
    "scrolled": true
   },
   "outputs": [
    {
     "name": "stdout",
     "output_type": "stream",
     "text": [
      "Loading and Visualizing Data ...\n"
     ]
    },
    {
     "data": {
      "image/png": "[encoded data removed]",
      "text/plain": [
       "<matplotlib.figure.Figure at 0x7f294bb57850>"
      ]
     },
     "metadata": {},
     "output_type": "display_data"
    }
   ],
   "source": [
    "## =========== Part 1: Loading and Visualizing Data =============\n",
    "\n",
    "from __future__ import print_function\n",
    "\n",
    "import scipy.io\n",
    "import numpy as np\n",
    "import matplotlib.pyplot as plt\n",
    "\n",
    "# Load Training Data\n",
    "print('Loading and Visualizing Data ...')\n",
    "\n",
    "mat = scipy.io.loadmat('ex5data1.mat')\n",
    "\n",
    "X = mat['X']\n",
    "y = mat['y']\n",
    "\n",
    "Xval = mat[\"Xval\"]\n",
    "yval = mat[\"yval\"]\n",
    "Xtest = mat[\"Xtest\"]\n",
    "ytest = mat[\"ytest\"]\n",
    "\n",
    "# size of the dataset\n",
    "m = X.shape[0]\n",
    "\n",
    "# Plot training data\n",
    "plt.plot(X, y, 'rx', markersize=10, linewidth=1.5)\n",
    "plt.xlabel('Change in water level (x)')\n",
    "plt.ylabel('Water flowing out of the dam (y)')\n",
    "plt.show(block=False) "
   ]
  },
  {
   "cell_type": "code",
   "execution_count": 360,
   "metadata": {
    "collapsed": false
   },
   "outputs": [],
   "source": [
    "## =========== Part 2: Regularized Linear Regression Cost =============\n",
    "\n",
    "def linearRegCostFunction(X, y, theta, lambda_val, return_grad=False):\n",
    "    m = len(y) \n",
    "    \n",
    "    theta = np.reshape(theta, (-1,y.shape[1]))\n",
    "\n",
    "    J = 0\n",
    "    grad = np.zeros(theta.shape)\n",
    "    \n",
    "    # cost function\n",
    "    J = ( 1./(2*m)) * np.power( (np.dot(X, theta) - y) , 2).sum() + ( float(lambda_val) / (2*m)) * np.power(theta[1:theta.shape[0]],2).sum()\n",
    "\n",
    "    # regularized gradient\n",
    "    grad = (1./m) * np.dot( X.T, np.dot(X,theta) - y) + ( float(lambda_val) / m )*theta\n",
    "\n",
    "    # unregularize first gradient\n",
    "    grad_no_regularization = (1./m) * np.dot( X.T, np.dot(X,theta) - y)\n",
    "    grad[0] = grad_no_regularization[0]\n",
    "    \n",
    "    if return_grad == True:\n",
    "        return J, grad.flatten()\n",
    "    elif return_grad == False:\n",
    "        return J \n",
    "    \n",
    "theta = np.array([[1] , [1]])\n",
    "X_padded = np.column_stack((np.ones((m,1)), X))\n",
    "J = linearRegCostFunction(X_padded, y, theta, 1)"
   ]
  },
  {
   "cell_type": "code",
   "execution_count": 361,
   "metadata": {
    "collapsed": false
   },
   "outputs": [],
   "source": [
    "## =========== Part 3: Regularized Linear Regression Gradient =============\n",
    "theta = np.array([[1] , [1]])\n",
    "J, grad = linearRegCostFunction(X_padded, y, theta, 1, True)\n"
   ]
  },
  {
   "cell_type": "code",
   "execution_count": 362,
   "metadata": {
    "collapsed": false
   },
   "outputs": [
    {
     "data": {
      "text/plain": [
       "[<matplotlib.lines.Line2D at 0x7f29495d9a90>]"
      ]
     },
     "execution_count": 362,
     "metadata": {},
     "output_type": "execute_result"
    }
   ],
   "source": [
    "## =========== Part 4: Train Linear Regression =============\n",
    "\n",
    "from scipy.optimize import minimize\n",
    "\n",
    "def trainLinearReg(X, y, lambda_val):\n",
    "   \n",
    "    # Initialize Theta\n",
    "    initial_theta = np.zeros((X.shape[1], 1))\n",
    "    \n",
    "\n",
    "    # Short hand for cost function to be minimized\n",
    "    def costFunc(theta):\n",
    "        return linearRegCostFunction(X, y, theta, lambda_val, True)\n",
    "\n",
    "    # Now, costFunction is a function that takes in only one argument\n",
    "    maxiter = 200\n",
    "    results = minimize(costFunc, x0=initial_theta, options={'disp': True, 'maxiter':maxiter}, method=\"L-BFGS-B\", jac=True)\n",
    "\n",
    "    theta = results[\"x\"]\n",
    "\n",
    "    return theta\n",
    "\n",
    "#  Train linear regression with lambda = 0\n",
    "lambda_val = 0\n",
    "theta = trainLinearReg(X_padded, y, lambda_val)\n",
    "\n",
    "# resets plot \n",
    "plt.close()\n",
    "\n",
    "#  Plot fit over the data\n",
    "plt.plot(X, y, 'rx', markersize=10, linewidth=1.5)\n",
    "plt.xlabel('Change in water level (x)')\n",
    "plt.ylabel('Water flowing out of the dam (y)')\n",
    "plt.plot(X, np.dot(X_padded, theta), '--', linewidth=2)\n",
    "# plt.show(block=False)"
   ]
  },
  {
   "cell_type": "code",
   "execution_count": 394,
   "metadata": {
    "collapsed": false
   },
   "outputs": [
    {
     "data": {
      "image/png": "[encoded data removed]",
      "text/plain": [
       "<matplotlib.figure.Figure at 0x7f29493b1bd0>"
      ]
     },
     "metadata": {},
     "output_type": "display_data"
    },
    {
     "name": "stdout",
     "output_type": "stream",
     "text": [
      "# Training Examples\tTrain Error\tCross Validation Error\n",
      "\n",
      "  \t1\t\t0.000000\t138.846777\n",
      "\n",
      "  \t2\t\t0.000015\t110.647622\n",
      "\n",
      "  \t3\t\t3.286615\t44.971999\n",
      "\n",
      "  \t4\t\t2.842689\t48.338955\n",
      "\n",
      "  \t5\t\t13.154052\t35.858531\n",
      "\n",
      "  \t6\t\t19.443965\t33.822654\n",
      "\n",
      "  \t7\t\t20.098524\t31.965551\n",
      "\n",
      "  \t8\t\t18.172860\t30.858614\n",
      "\n",
      "  \t9\t\t22.609407\t31.132841\n",
      "\n",
      "  \t10\t\t23.261462\t28.935174\n",
      "\n",
      "  \t11\t\t24.317250\t29.551049\n",
      "\n",
      "  \t12\t\t22.373907\t29.433177\n",
      "\n"
     ]
    }
   ],
   "source": [
    "## =========== Part 5: Learning Curve for Linear Regression =============\n",
    "# Since the model is underfitting the data, we expect to see a graph with \"high bias\"\n",
    "\n",
    "def learningCurve(X, y, Xval, yval, lambda_val):\n",
    "    # Number of training examples\n",
    "    m = len(X)\n",
    "    \n",
    "    # return these values correctly\n",
    "    error_train = np.zeros((m, 1))\n",
    "    error_val   = np.zeros((m, 1))\n",
    "    \n",
    "    for i in np.arange(1,m+1):\n",
    "        \n",
    "        # define training variables for this loop\n",
    "        X_train = X[:i]\n",
    "        y_train = y[:i]\n",
    "        \n",
    "        theta = trainLinearReg(X_train, y_train, 1)\n",
    "        \n",
    "        error_train[i-1] = linearRegCostFunction(X_train, y_train, theta, 0)\n",
    "        error_val[i-1]   = linearRegCostFunction(Xval   , yval   , theta, 0)\n",
    "      \n",
    "    return error_train, error_val\n",
    "\n",
    "lambda_val = 0\n",
    "error_train, error_val = learningCurve(np.column_stack((np.ones((m,1)), X)), y, np.column_stack((np.ones((Xval.shape[0], 1)), Xval)), yval, lambda_val)\n",
    "\n",
    "# resets plot \n",
    "plt.close()\n",
    "\n",
    "p1, p2 = plt.plot(range(m), error_train, range(m), error_val)\n",
    "plt.title('Learning curve for linear regression')\n",
    "plt.legend((p1, p2), ('Train', 'Cross Validation'), numpoints=1, handlelength=0.5)\n",
    "plt.xlabel('Number of training examples')\n",
    "plt.ylabel('Error')\n",
    "plt.show(block=False)\n",
    "plt.axis([0, 13, 0, 150])\n",
    "\n",
    "print('# Training Examples\\tTrain Error\\tCross Validation Error\\n')\n",
    "for i in xrange(m):\n",
    "    print('  \\t{:d}\\t\\t{:f}\\t{:f}\\n'.format(i+1, float(error_train[i]), float(error_val[i])))\n"
   ]
  },
  {
   "cell_type": "code",
   "execution_count": 440,
   "metadata": {
    "collapsed": false
   },
   "outputs": [
    {
     "data": {
      "text/plain": [
       "(array([[ -3.78243704e-01,  -7.88662325e-01,   1.90328720e-01,\n",
       "          -7.37591303e-01,   3.20251970e-01,  -6.17151602e-01,\n",
       "           3.59835014e-01,  -5.31091256e-01],\n",
       "        [ -8.38920100e-01,   1.31420204e-03,  -2.58961742e-01,\n",
       "          -3.41564822e-01,   9.75492734e-02,  -4.55196644e-01,\n",
       "           2.66773432e-01,  -4.68873807e-01],\n",
       "        [  1.43871736e+00,   6.10831582e-01,   1.30534069e+00,\n",
       "           2.56220001e-01,   1.02186338e+00,  -1.26962121e-02,\n",
       "           7.90210009e-01,  -1.77926980e-01],\n",
       "        [  1.48412330e+00,   7.38068463e-01,   1.42031240e+00,\n",
       "           4.13121830e-01,   1.15534830e+00,   1.31223708e-01,\n",
       "           9.10700224e-01,  -6.22895388e-02],\n",
       "        [ -1.49791929e+00,   1.93643966e+00,  -2.12774745e+00,\n",
       "           2.43510061e+00,  -2.51876748e+00,   2.71792174e+00,\n",
       "          -2.76331690e+00,   2.88908182e+00],\n",
       "        [ -1.34409278e-01,  -1.01936614e+00,   2.62563148e-01,\n",
       "          -7.72577738e-01,   3.31046537e-01,  -6.21453712e-01,\n",
       "           3.61188658e-01,  -5.31586524e-01],\n",
       "        [  7.10844248e-01,  -8.14713668e-01,   3.55803314e-01,\n",
       "          -7.43368461e-01,   3.41027665e-01,  -6.18104683e-01,\n",
       "           3.62252117e-01,  -5.31229003e-01],\n",
       "        [ -1.03249041e+00,   4.71428060e-01,  -6.28018432e-01,\n",
       "           9.70487696e-02,  -2.28187552e-01,  -1.47905228e-01,\n",
       "           4.11556057e-02,  -2.78551428e-01],\n",
       "        [  2.25683763e-01,  -1.12279332e+00,   2.78115330e-01,\n",
       "          -7.76423647e-01,   3.31682056e-01,  -6.21592224e-01,\n",
       "           3.61212770e-01,  -5.31591435e-01],\n",
       "        [ -1.36981778e+00,   1.48607235e+00,  -1.61695958e+00,\n",
       "           1.55980151e+00,  -1.58331392e+00,   1.45040261e+00,\n",
       "          -1.42914967e+00,   1.27857621e+00],\n",
       "        [  4.21731046e-01,  -1.06014377e+00,   2.85534542e-01,\n",
       "          -7.74969228e-01,   3.31870677e-01,  -6.21559967e-01,\n",
       "           3.61217175e-01,  -5.31590732e-01],\n",
       "        [  9.70700848e-01,  -4.38475085e-01,   5.33689054e-01,\n",
       "          -6.14797521e-01,   3.99629101e-01,  -5.83887796e-01,\n",
       "           3.77921571e-01,  -5.22927330e-01]]),\n",
       " array([ -5.08542635e+00,   8.48904834e+02,  -1.28290173e+04,\n",
       "          1.28967789e+06,  -2.98314592e+07,   2.29330301e+09,\n",
       "         -6.84527284e+10,   4.42233759e+12]),\n",
       " array([  2.86887308e+01,   7.54346385e+02,   4.61380464e+04,\n",
       "          1.66104441e+06,   8.99399404e+07,   3.68940106e+09,\n",
       "          1.89508052e+11,   8.31905350e+12]))"
      ]
     },
     "execution_count": 440,
     "metadata": {},
     "output_type": "execute_result"
    }
   ],
   "source": [
    "## =========== Part 6: Feature Mapping for Polynomial Regression =============\n",
    "def polyFeatures(X, p): \n",
    "    # initialize X_poly to be equal to the single-column X\n",
    "    X_poly = X\n",
    "    \n",
    "    # if p is equal or greater than 2\n",
    "    if p >= 2:\n",
    "        # for each number between column 2 (index 1) and last column\n",
    "        \n",
    "        for k in xrange(1,p):\n",
    "            # add k-th column of polynomial features where k-th column is X.^k\n",
    "            \n",
    "            X_poly = np.column_stack((X_poly, np.power(X,k+1)))\n",
    "            \n",
    "    return X_poly\n",
    "\n",
    "def featureNormalize(X):\n",
    "    \n",
    "    #   FEATURENORMALIZE(X) returns a normalized version of X where\n",
    "    #   the mean value of each feature is 0 and the standard deviation\n",
    "    #   is 1. This is often a good preprocessing step to do when\n",
    "    #   working with learning algorithms.\n",
    "\n",
    "    mu = np.mean(X, axis=0)\n",
    "    X_norm = X - mu\n",
    "\n",
    "    sigma = np.std(X_norm, axis=0)\n",
    "    X_norm = X_norm/sigma\n",
    "\n",
    "    return X_norm, mu, sigma\n",
    "    \n",
    "p = 8\n",
    "X_poly = polyFeatures(X, p)\n",
    "featureNormalize(X_poly)"
   ]
  },
  {
   "cell_type": "code",
   "execution_count": null,
   "metadata": {
    "collapsed": true
   },
   "outputs": [],
   "source": []
  }
 ],
 "metadata": {
  "kernelspec": {
   "display_name": "Python 2",
   "language": "python",
   "name": "python2"
  },
  "language_info": {
   "codemirror_mode": {
    "name": "ipython",
    "version": 2
   },
   "file_extension": ".py",
   "mimetype": "text/x-python",
   "name": "python",
   "nbconvert_exporter": "python",
   "pygments_lexer": "ipython2",
   "version": "2.7.12"
  }
 },
 "nbformat": 4,
 "nbformat_minor": 2
}
