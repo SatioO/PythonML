{
 "cells": [
  {
   "cell_type": "code",
   "execution_count": 444,
   "metadata": {
    "collapsed": false
   },
   "outputs": [
    {
     "name": "stdout",
     "output_type": "stream",
     "text": [
      "(3, 47)\n"
     ]
    }
   ],
   "source": [
    "from numpy import loadtxt, mean, std, ones, arange\n",
    "from pylab import show, scatter\n",
    "\n",
    "def feature_normalize(X):\n",
    "    m = X.shape\n",
    "    X_norm = X\n",
    "    for i in range(m[1]):\n",
    "        mu = mean(X[:, i])\n",
    "        sigma = std(X[:, i])\n",
    "        X_norm[:, i] = (X[:, i] - mu) / sigma\n",
    "#         print(X_norm[:, i])\n",
    "    return X_norm, mu, sigma\n",
    "\n",
    "# function to minimize square error cost\n",
    "def gradient_descent(X, Y, theta, alpha, iters):\n",
    "    m = Y.size\n",
    "    for iter in arange(num_iters):\n",
    "        h = X.dot(theta)\n",
    "        theta = theta - alpha*(1/m)*(X.T.dot(h-Y))\n",
    "#         J_history[iter] = computeCost(X, y, theta)\n",
    "    return theta\n",
    "\n",
    "# load labled training set\n",
    "df = loadtxt('ex1data2.txt', delimiter=',')\n",
    "\n",
    "# Assign labeld training set to independent and depended variables\n",
    "X = df[:,:2]\n",
    "Y = df[:,2]\n",
    "\n",
    "# Normalize features to avoid ending in local optima\n",
    "X, mu, sigma = feature_normalize(X)\n",
    "\n",
    "# Count the number of training examples\n",
    "m = X.shape\n",
    "\n",
    "# X subscript 1 = 0\n",
    "X = np.c_[np.ones(data.shape[0]),data[:,0]]\n",
    "y = np.c_[data[:,1]]\n",
    "# print(it)\n",
    "# initial theta value\n",
    "theta = zeros(shape=(3, 1))\n",
    "\n",
    "# initial alpha value\n",
    "alpha = 0.01\n",
    "\n",
    "# iterations count\n",
    "iters = 1500\n",
    "\n",
    "# gradient descent algorithm to minimize cost\n",
    "theta = gradient_descent(it, Y, theta, alpha, iters)\n",
    "print(theta.shape)"
   ]
  },
  {
   "cell_type": "code",
   "execution_count": null,
   "metadata": {
    "collapsed": true
   },
   "outputs": [],
   "source": []
  }
 ],
 "metadata": {
  "anaconda-cloud": {},
  "kernelspec": {
   "display_name": "Python [default]",
   "language": "python",
   "name": "python3"
  },
  "language_info": {
   "codemirror_mode": {
    "name": "ipython",
    "version": 3
   },
   "file_extension": ".py",
   "mimetype": "text/x-python",
   "name": "python",
   "nbconvert_exporter": "python",
   "pygments_lexer": "ipython3",
   "version": "3.5.2"
  }
 },
 "nbformat": 4,
 "nbformat_minor": 1
}
