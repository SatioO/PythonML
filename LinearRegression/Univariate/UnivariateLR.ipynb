{
 "cells": [
  {
   "cell_type": "code",
   "execution_count": 9,
   "metadata": {
    "collapsed": false,
    "deletable": true,
    "editable": true
   },
   "outputs": [
    {
     "name": "stdout",
     "output_type": "stream",
     "text": [
      "[ 32.07273388]\n",
      "[[-3.89558599]\n",
      " [ 1.19301407]]\n"
     ]
    }
   ],
   "source": [
    "import numpy as np\n",
    "import matplotlib.pyplot as plt\n",
    "from mpl_toolkits.mplot3d import Axes3D\n",
    "\n",
    "def compute_cost(X, y, theta):\n",
    "    m = len(y)\n",
    "    s = np.power(( X.dot(theta) - np.transpose([y]) ), 2)\n",
    "    J = (1.0/(2*m)) * s.sum( axis = 0 )\n",
    "    print(J)\n",
    "    return J\n",
    "\n",
    "def gradient_descent(X, y, theta, alpha, iters):\n",
    "    m = len(y)\n",
    "    for i in np.arange(iters):\n",
    "        h = X.dot(theta) - np.transpose([y])\n",
    "        theta = theta - alpha*((1.0/m) * np.transpose(X).dot(h))\n",
    "    return theta\n",
    "\n",
    "def plotData(X, y):\n",
    "    plt.plot(X,y,'rx', label='Training data')\n",
    "    plt.xlabel('Population of City in 10,000s')\n",
    "    plt.ylabel('Profit in $10,000s')\n",
    "    plt.show()\n",
    "    \n",
    "# load labeled training data into algorithm\n",
    "data = np.loadtxt('ex1data1.txt', delimiter=',')\n",
    "\n",
    "X = data[:, 0]\n",
    "y = data[:, 1]\n",
    "\n",
    "# Initial theta parameters \n",
    "theta = np.zeros(shape=(2, 1))\n",
    "\n",
    "# Plot data\n",
    "# plotData(X, y)\n",
    "\n",
    "# Length of training set \n",
    "m = len(y)\n",
    "\n",
    "# X subscript 0 to 1 \n",
    "X_padded = np.column_stack((np.ones((m,1)), X))\n",
    "\n",
    "# Compute square error cost\n",
    "compute_cost(X_padded, y, theta)\n",
    "\n",
    "# Number of iterations to converge\n",
    "iters = 5500\n",
    "\n",
    "# set alpha value \n",
    "alpha = 0.01\n",
    "\n",
    "theta = gradient_descent(X_padded, y, theta, alpha, iters)\n",
    "print theta\n",
    "# # Plot the linear fit\n",
    "# plt.plot(X,X_padded.dot(theta),'-', label='Linear regression')\n",
    "# plt.legend(loc='lower right')\n",
    "# plt.draw()\n",
    "# plt.hold(True) # do not prevent further plotting on the same figure\n",
    "\n",
    "# print(theta)\n",
    "# # Predict values for population sizes of 35,000 and 70,000\n",
    "# predict1 = np.array([1, 3.5]).dot(theta)\n",
    "# print(\"For population = 35,000, we predict a profit of {:f}\".format( float(predict1*10000) ))\n",
    "# predict2 = np.array([1, 7]).dot(theta)\n",
    "# print('For population = 70,000, we predict a profit of {:f}'.format( float(predict2*10000) ))\n"
   ]
  },
  {
   "cell_type": "code",
   "execution_count": null,
   "metadata": {
    "collapsed": true,
    "deletable": true,
    "editable": true
   },
   "outputs": [],
   "source": []
  }
 ],
 "metadata": {
  "anaconda-cloud": {},
  "kernelspec": {
   "display_name": "Python 2",
   "language": "python",
   "name": "python2"
  },
  "language_info": {
   "codemirror_mode": {
    "name": "ipython",
    "version": 2
   },
   "file_extension": ".py",
   "mimetype": "text/x-python",
   "name": "python",
   "nbconvert_exporter": "python",
   "pygments_lexer": "ipython2",
   "version": "2.7.12"
  }
 },
 "nbformat": 4,
 "nbformat_minor": 1
}
