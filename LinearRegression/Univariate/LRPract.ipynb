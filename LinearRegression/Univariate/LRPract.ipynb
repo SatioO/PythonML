{
 "cells": [
  {
   "cell_type": "code",
   "execution_count": 3,
   "metadata": {
    "collapsed": false
   },
   "outputs": [
    {
     "name": "stdout",
     "output_type": "stream",
     "text": [
      "Automatically created module for IPython interactive environment\n"
     ]
    }
   ],
   "source": [
    "print(__doc__)\n",
    "\n",
    "# Code source: Vaibhav Satam\n",
    "# License: MachineLearn\n",
    "\n",
    "from scipy import linalg\n",
    "\n",
    "class LinearRegression(object):\n",
    "    def __init__(self):\n",
    "        self.coef_ = np.zeros((X_train.shape[1] + 1, 1))\n",
    "        \n",
    "    def fit(self, X, y):\n",
    "        # num of training examples\n",
    "        train_size = y.size\n",
    "        y = y.reshape((train_size, 1))\n",
    "        \n",
    "        self.coef_, self._residues, self.rank_, self.singular_ = linalg.lstsq(X, y)\n",
    "        self.coef_ = self.coef_.T\n",
    "        self.coef_ = np.ravel(self.coef_)\n",
    "        return self\n",
    "        \n",
    "    def predict(self, X):\n",
    "        # calculate dot product of test set with learned parameters       \n",
    "        return np.dot(X, self.coef_.T)"
   ]
  },
  {
   "cell_type": "code",
   "execution_count": 16,
   "metadata": {
    "collapsed": false,
    "deletable": true,
    "editable": true,
    "scrolled": true
   },
   "outputs": [
    {
     "name": "stdout",
     "output_type": "stream",
     "text": [
      " 1) 10.6549268976                  13.501000\n",
      " 2) 3.98361924414                  5.343600\n",
      " 3) 5.89406232157                  13.662000\n",
      " 4) 3.84122187255                  -1.421100\n",
      " 5) 3.07977470792                  1.017300\n",
      " 6) 2.8116385435                   0.204210\n",
      " 7) 3.84709674442                  5.304800\n",
      " 8) 7.7206109944                   6.752600\n",
      " 9) 3.81764983367                  1.423300\n",
      "10) 5.67195769209                  5.744200\n",
      "11) 4.99868780189                  4.998100\n",
      "12) 2.70154488687                  2.821400\n",
      "13) 4.74312463366                  4.025900\n",
      "14) 5.78426298373                  7.225800\n",
      "15) 5.95357932334                  12.000000\n",
      "16) 2.86650284832                  -1.220000\n",
      "17) 3.07170038346                  4.263000\n",
      "18) 3.13674084549                  3.082500\n",
      "19) 3.4236480065                   1.849500\n",
      "20) 3.95660203529                  6.598700\n",
      "21) 3.31949457571                  2.440600\n",
      "22) 23.0993720822                  17.929000\n",
      "23) 4.4322610343                   11.854000\n",
      "24) 6.56515923478                  6.798100\n",
      "25) 4.51614351821                  1.046300\n",
      "26) 9.31679536325                  8.004300\n",
      "27) 4.87774042625                  4.348300\n",
      "28) 3.02557853689                  0.617050\n",
      "29) 3.28039725616                  0.479530\n",
      "30) 4.01277039653                  0.296780\n"
     ]
    }
   ],
   "source": [
    "import numpy as np\n",
    "import pandas as pd\n",
    "import matplotlib.pyplot as plt\n",
    "import seaborn\n",
    "\n",
    "# Load training data\n",
    "df = pd.read_csv('ex1data1.txt', sep=',', header=None)\n",
    "X = df.ix[:, :0].values\n",
    "y = df.ix[:, 1].values\n",
    "\n",
    "from sklearn.preprocessing import PolynomialFeatures\n",
    "\n",
    "pp = PolynomialFeatures(degree=3)\n",
    "X_poly = pp.fit_transform(X)\n",
    "from sklearn.model_selection import train_test_split\n",
    "from sklearn.preprocessing import StandardScaler\n",
    "\n",
    "X_train, X_test, y_train, y_test = train_test_split(X_poly, y, test_size=0.3, random_state=0)\n",
    "\n",
    "# Feature scaling for bringing all features onto the same scale\n",
    "# No need of this for univariate\n",
    "# sc = StandardScaler()\n",
    "# X_train_norm = sc.fit_transform(X_train)\n",
    "# X_test_norm = sc.transform(X_test)\n",
    "\n",
    "X_train_size = X_train.shape[0]\n",
    "X_test_size = X_test.shape[0]\n",
    "\n",
    "X_train_padded = np.hstack((np.ones((X_train_size, 1)), X_train))\n",
    "X_test_padded = np.hstack((np.ones((X_test_size, 1)), X_test))\n",
    "\n",
    "lr = LinearRegression()\n",
    "lr.fit(X_train, y_train)\n",
    "y_pred = lr.predict(X_test)\n",
    "\n",
    "for f in range(y_pred.shape[0]):\n",
    "    print(\"%2d) %-*s %2f\" % (f + 1, 30, y_pred[f], y_test[f]))"
   ]
  },
  {
   "cell_type": "code",
   "execution_count": null,
   "metadata": {
    "collapsed": true
   },
   "outputs": [],
   "source": []
  },
  {
   "cell_type": "code",
   "execution_count": null,
   "metadata": {
    "collapsed": true
   },
   "outputs": [],
   "source": []
  }
 ],
 "metadata": {
  "kernelspec": {
   "display_name": "Python 2",
   "language": "python",
   "name": "python2"
  },
  "language_info": {
   "codemirror_mode": {
    "name": "ipython",
    "version": 2
   },
   "file_extension": ".py",
   "mimetype": "text/x-python",
   "name": "python",
   "nbconvert_exporter": "python",
   "pygments_lexer": "ipython2",
   "version": "2.7.12"
  }
 },
 "nbformat": 4,
 "nbformat_minor": 2
}
