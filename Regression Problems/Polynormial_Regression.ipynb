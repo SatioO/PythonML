{
 "cells": [
  {
   "cell_type": "code",
   "execution_count": 42,
   "metadata": {
    "collapsed": false
   },
   "outputs": [
    {
     "name": "stdout",
     "output_type": "stream",
     "text": [
      "Loading and Visualizing Data ...\n"
     ]
    },
    {
     "data": {
      "image/png": "[encoded data removed]",
      "text/plain": [
       "<matplotlib.figure.Figure at 0x7fb8449f5dd0>"
      ]
     },
     "metadata": {},
     "output_type": "display_data"
    }
   ],
   "source": [
    "## =========== Part 1: Loading and Visualizing Data =============\n",
    "from __future__ import print_function\n",
    "\n",
    "import scipy.io\n",
    "import numpy as np\n",
    "import matplotlib.pyplot as plt\n",
    "\n",
    "# Load Training Data\n",
    "print('Loading and Visualizing Data ...')\n",
    "\n",
    "mat = scipy.io.loadmat('./data/ex5data1.mat')\n",
    "\n",
    "X = mat['X']\n",
    "y = mat['y']\n",
    "\n",
    "Xval = mat[\"Xval\"]\n",
    "yval = mat[\"yval\"]\n",
    "Xtest = mat[\"Xtest\"]\n",
    "ytest = mat[\"ytest\"]\n",
    "\n",
    "# size of the dataset\n",
    "m = X.shape[0]\n",
    "\n",
    "# Plot training data\n",
    "plt.plot(X, y, 'rx', markersize=10, linewidth=1.5)\n",
    "plt.xlabel('Change in water level (x)')\n",
    "plt.ylabel('Water flowing out of the dam (y)')\n",
    "plt.show(block=False) "
   ]
  },
  {
   "cell_type": "code",
   "execution_count": 135,
   "metadata": {
    "collapsed": false
   },
   "outputs": [],
   "source": [
    "class LinearRegression(object):\n",
    "    def __init__(self, n_iters=200):\n",
    "        self.n_iters = n_iters\n",
    "        \n",
    "    def fit(self, X, y, theta, lambda_val):\n",
    "        m = len(y) \n",
    "    \n",
    "        theta = np.reshape(theta, (-1,y.shape[1]))\n",
    "        J = 0\n",
    "        grad = np.zeros(theta.shape)\n",
    "\n",
    "        # cost function\n",
    "        J = ( 1./(2*m)) * np.power( (np.dot(X, theta) - y) , 2).sum() + ( float(lambda_val) / (2*m)) * np.power(theta[1:theta.shape[0]],2).sum()\n",
    "\n",
    "        # regularized gradient\n",
    "        grad = (1./m) * np.dot( X.T, np.dot(X,theta) - y) + ( float(lambda_val) / m )*theta\n",
    "\n",
    "        # unregularize first gradient\n",
    "        grad_no_regularization = (1./m) * np.dot( X.T, np.dot(X,theta) - y)\n",
    "        grad[0] = grad_no_regularization[0]\n",
    "            \n",
    "        return J, grad.flatten()\n",
    "    \n",
    "    def transform(self,X, y, lambda_val):\n",
    "   \n",
    "        # Initialize Theta\n",
    "        initial_theta = np.zeros((X.shape[1], 1))\n",
    "\n",
    "        # Short hand for cost function to be minimized\n",
    "        def costFunc(theta):\n",
    "            return lr.fit(X, y, theta, lambda_val)\n",
    "\n",
    "        # Now, costFunction is a function that takes in only one argument\n",
    "        maxiter = 200\n",
    "        results = minimize(costFunc, x0=initial_theta, options={'disp': True, 'maxiter':maxiter}, method=\"L-BFGS-B\", jac=True)\n",
    "\n",
    "        theta = results[\"x\"]\n",
    "        return theta\n",
    "    \n",
    "    def predict(self, X, theta):\n",
    "        # calculate dot product of test set with learned parameters       \n",
    "        return np.dot(X, theta)"
   ]
  },
  {
   "cell_type": "code",
   "execution_count": 150,
   "metadata": {
    "collapsed": false
   },
   "outputs": [
    {
     "data": {
      "image/png": "[encoded data removed]",
      "text/plain": [
       "<matplotlib.figure.Figure at 0x7fb87d355510>"
      ]
     },
     "metadata": {},
     "output_type": "display_data"
    },
    {
     "name": "stdout",
     "output_type": "stream",
     "text": [
      " 1) 7.22669487978                  2.134311\n",
      " 2) 2.36604326956                  1.173257\n",
      " 3) 26.3976678296                  34.359109\n",
      " 4) 26.8767512893                  36.837955\n",
      " 5) -4.58713576767                 2.808965\n",
      " 6) 9.79942099761                  2.121072\n",
      " 7) 18.7177917888                  14.710268\n",
      " 8) 0.323659803433                 2.614184\n",
      " 9) 13.5988056346                  3.740172\n",
      "10) -3.2355215006                  3.731691\n",
      "11) 15.6673239046                  7.627659\n",
      "12) 21.4595697755                  22.752428\n"
     ]
    }
   ],
   "source": [
    "from scipy.optimize import minimize\n",
    "\n",
    "# Initialize Theta\n",
    "theta = np.array([[1] , [1]])\n",
    "\n",
    "X_padded = np.column_stack((np.ones((m,1)), X))\n",
    "\n",
    "lr = LinearRegression()\n",
    "lr.fit(X_padded, y, theta, 1)\n",
    "\n",
    "#  Train linear regression with lambda = 0\n",
    "theta = lr.transform(X_padded, y, 0)\n",
    "y_pred = lr.predict(X_padded, theta)\n",
    "\n",
    "# Plot outputs \n",
    "plt.scatter(X, y,  color='black')\n",
    "plt.xlabel('X')\n",
    "plt.ylabel('Y')\n",
    "plt.plot(X, y_pred, color='blue', linewidth=3)\n",
    "plt.show()\n",
    "\n",
    "for f in range(y_pred.shape[0]):\n",
    "    print(\"%2d) %-*s %2f\" % (f + 1, 30, y_pred[f], y[f]))"
   ]
  },
  {
   "cell_type": "code",
   "execution_count": null,
   "metadata": {
    "collapsed": true
   },
   "outputs": [],
   "source": []
  },
  {
   "cell_type": "code",
   "execution_count": null,
   "metadata": {
    "collapsed": true
   },
   "outputs": [],
   "source": []
  }
 ],
 "metadata": {
  "kernelspec": {
   "display_name": "Python 2",
   "language": "python",
   "name": "python2"
  },
  "language_info": {
   "codemirror_mode": {
    "name": "ipython",
    "version": 2
   },
   "file_extension": ".py",
   "mimetype": "text/x-python",
   "name": "python",
   "nbconvert_exporter": "python",
   "pygments_lexer": "ipython2",
   "version": "2.7.12"
  }
 },
 "nbformat": 4,
 "nbformat_minor": 2
}
